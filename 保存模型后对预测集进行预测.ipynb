{
 "cells": [
  {
   "cell_type": "code",
   "execution_count": 9,
   "id": "950c4cc1",
   "metadata": {},
   "outputs": [],
   "source": [
    "import pickle\n",
    "import pandas as pd\n",
    "import numpy as np\n",
    "import csv\n",
    "from sklearn import preprocessing"
   ]
  },
  {
   "cell_type": "code",
   "execution_count": 10,
   "id": "77de7b75",
   "metadata": {},
   "outputs": [],
   "source": [
    "loaded_model = pickle.load(open(\"ET15_9986.dat\",\"rb\"))"
   ]
  },
  {
   "cell_type": "code",
   "execution_count": 11,
   "id": "521588fe",
   "metadata": {},
   "outputs": [],
   "source": [
    "dataset= r'15rfe.csv'\n",
    "data=pd.DataFrame(pd.read_csv(dataset))"
   ]
  },
  {
   "cell_type": "code",
   "execution_count": 12,
   "id": "9e6feaee",
   "metadata": {},
   "outputs": [],
   "source": [
    "X = data.values[:, :-1]\n",
    "for i in range(X.shape[1]):\n",
    "    X[:, [i]] = preprocessing.MinMaxScaler().fit_transform(X[:, [i]])"
   ]
  },
  {
   "cell_type": "code",
   "execution_count": 13,
   "id": "d1a46902",
   "metadata": {},
   "outputs": [],
   "source": [
    "target=loaded_model.predict(X)\n"
   ]
  },
  {
   "cell_type": "code",
   "execution_count": 14,
   "id": "7e19406f",
   "metadata": {},
   "outputs": [
    {
     "name": "stdout",
     "output_type": "stream",
     "text": [
      "[0. 0. 0. ... 0. 0. 0.]\n"
     ]
    }
   ],
   "source": [
    "print(loaded_model.predict(X))"
   ]
  },
  {
   "cell_type": "code",
   "execution_count": 15,
   "id": "20095406",
   "metadata": {},
   "outputs": [],
   "source": [
    "with open('targetET15_9986.csv', 'w', newline='') as file:\n",
    "    writer = csv.writer(file)\n",
    "    \n",
    "    # Write each element in the array as a new row in the CSV file\n",
    "    for element in target:\n",
    "        writer.writerow([element])"
   ]
  },
  {
   "cell_type": "code",
   "execution_count": null,
   "id": "7bdafa34",
   "metadata": {},
   "outputs": [],
   "source": []
  }
 ],
 "metadata": {
  "kernelspec": {
   "display_name": "py39",
   "language": "python",
   "name": "py39"
  },
  "language_info": {
   "codemirror_mode": {
    "name": "ipython",
    "version": 3
   },
   "file_extension": ".py",
   "mimetype": "text/x-python",
   "name": "python",
   "nbconvert_exporter": "python",
   "pygments_lexer": "ipython3",
   "version": "3.10.5"
  }
 },
 "nbformat": 4,
 "nbformat_minor": 5
}
